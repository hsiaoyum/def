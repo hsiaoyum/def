{
 "cells": [
  {
   "cell_type": "code",
   "execution_count": 2,
   "metadata": {},
   "outputs": [
    {
     "data": {
      "text/plain": [
       "{'亞洲': '日本', '歐洲': '德國', '非洲': '剛果'}"
      ]
     },
     "execution_count": 2,
     "metadata": {},
     "output_type": "execute_result"
    }
   ],
   "source": [
    "def travelplan(asia,europe, africa):\n",
    "    return {'亞洲': asia,'歐洲':europe,'非洲':africa}\n",
    "\n",
    "\n",
    "#引數位置的呼叫\n",
    "\n",
    "travelplan('日本','德國','剛果')\n"
   ]
  },
  {
   "cell_type": "code",
   "execution_count": 5,
   "metadata": {},
   "outputs": [
    {
     "data": {
      "text/plain": [
       "{'亞洲': '西班牙', '歐洲': '南非', '非洲': '韓國'}"
      ]
     },
     "execution_count": 5,
     "metadata": {},
     "output_type": "execute_result"
    }
   ],
   "source": [
    "#引數位置的呼叫,必須依照順序\n",
    "def travelplan(asia,europe, africa):\n",
    "    return {'亞洲': asia,'歐洲':europe,'非洲':africa}\n",
    "\n",
    "travelplan('韓國','西班牙','南非')"
   ]
  },
  {
   "cell_type": "code",
   "execution_count": 7,
   "metadata": {},
   "outputs": [
    {
     "data": {
      "text/plain": [
       "{'亞洲': '台灣', '歐洲': '英國', '非洲': '摩洛哥'}"
      ]
     },
     "execution_count": 7,
     "metadata": {},
     "output_type": "execute_result"
    }
   ],
   "source": [
    "#引數名稱的呼叫\n",
    "\n",
    "travelplan(asia='台灣',europe='英國',africa='摩洛哥')\n",
    "\n",
    "\n"
   ]
  },
  {
   "cell_type": "code",
   "execution_count": 8,
   "metadata": {},
   "outputs": [
    {
     "data": {
      "text/plain": [
       "{'亞洲': '台灣', '歐洲': '英國', '非洲': '摩洛哥'}"
      ]
     },
     "execution_count": 8,
     "metadata": {},
     "output_type": "execute_result"
    }
   ],
   "source": [
    "#引數名稱的呼叫可以不依照順序\n",
    "\n",
    "travelplan(africa='摩洛哥',asia='台灣',europe='英國')"
   ]
  },
  {
   "cell_type": "code",
   "execution_count": 13,
   "metadata": {},
   "outputs": [
    {
     "data": {
      "text/plain": [
       "{'亞洲': '香港', '歐洲': '法國', '非洲': '剛果'}"
      ]
     },
     "execution_count": 13,
     "metadata": {},
     "output_type": "execute_result"
    }
   ],
   "source": [
    "#混合呼叫 #前面使用引數位置，後面使用引數名稱\n",
    "#使用引數名稱後，後面全部都要使用引數名稱\n",
    "\n",
    "def travelplan(asia,europe, africa):\n",
    "    return {'亞洲': asia,'歐洲':europe,'非洲':africa}\n",
    "\n",
    "travelplan('香港',europe='法國',africa='剛果')\n"
   ]
  },
  {
   "cell_type": "code",
   "execution_count": 1,
   "metadata": {},
   "outputs": [],
   "source": [
    "def menu(wine,entree,dessert):\n",
    "    return{'酒':wine,'主餐':entree,'甜點':dessert}\n"
   ]
  },
  {
   "cell_type": "code",
   "execution_count": 13,
   "metadata": {},
   "outputs": [
    {
     "data": {
      "text/plain": [
       "{'酒': '白酒', '主餐': '魚排', '甜點': '布朗尼'}"
      ]
     },
     "execution_count": 13,
     "metadata": {},
     "output_type": "execute_result"
    }
   ],
   "source": [
    "menu('白酒','魚排','布朗尼')"
   ]
  },
  {
   "cell_type": "code",
   "execution_count": 2,
   "metadata": {},
   "outputs": [],
   "source": [
    "#參數有預設值，有預設值的參數要放最後\n",
    "\n",
    "def menu(wine,entree='魚排',dessert='布朗尼'):\n",
    "    return{'酒':wine,'主餐':entree,'甜點':dessert}"
   ]
  },
  {
   "cell_type": "code",
   "execution_count": 3,
   "metadata": {},
   "outputs": [
    {
     "data": {
      "text/plain": [
       "{'酒': '白酒', '主餐': '魚排', '甜點': '布朗尼'}"
      ]
     },
     "execution_count": 3,
     "metadata": {},
     "output_type": "execute_result"
    }
   ],
   "source": [
    "menu('白酒')"
   ]
  },
  {
   "cell_type": "code",
   "execution_count": 4,
   "metadata": {},
   "outputs": [
    {
     "data": {
      "text/plain": [
       "{'酒': '紅酒', '主餐': '魚排', '甜點': '甜湯'}"
      ]
     },
     "execution_count": 4,
     "metadata": {},
     "output_type": "execute_result"
    }
   ],
   "source": [
    "menu('紅酒',dessert='甜湯')"
   ]
  },
  {
   "cell_type": "code",
   "execution_count": 14,
   "metadata": {},
   "outputs": [],
   "source": [
    "def print_args(*args):\n",
    "    print(args)\n",
    "\n",
    "    #一個＊-> 無限制數量的引數位置呼叫"
   ]
  },
  {
   "cell_type": "code",
   "execution_count": 15,
   "metadata": {},
   "outputs": [
    {
     "name": "stdout",
     "output_type": "stream",
     "text": [
      "(1, 3, 2, 4, 5, 'd', 100.5)\n"
     ]
    }
   ],
   "source": [
    "print_args(1,3,2,4,5,'d',100.50)\n",
    "#傳出tuple \n"
   ]
  },
  {
   "cell_type": "code",
   "execution_count": 8,
   "metadata": {},
   "outputs": [],
   "source": [
    "def print_kwargs(**kwargs):\n",
    "    print(kwargs)\n",
    "\n",
    "    #2個＊-> 無限制數量的引數名稱呼叫"
   ]
  },
  {
   "cell_type": "code",
   "execution_count": 12,
   "metadata": {},
   "outputs": [
    {
     "name": "stdout",
     "output_type": "stream",
     "text": [
      "{'uno': 1, 'tres': 3, 'dos': 2}\n"
     ]
    }
   ],
   "source": [
    "print_kwargs(uno=1,tres=3,dos=2, )\n",
    "\n",
    "#傳出dictionary\n"
   ]
  },
  {
   "cell_type": "code",
   "execution_count": null,
   "metadata": {},
   "outputs": [],
   "source": []
  }
 ],
 "metadata": {
  "kernelspec": {
   "display_name": "Python 3",
   "language": "python",
   "name": "python3"
  },
  "language_info": {
   "codemirror_mode": {
    "name": "ipython",
    "version": 3
   },
   "file_extension": ".py",
   "mimetype": "text/x-python",
   "name": "python",
   "nbconvert_exporter": "python",
   "pygments_lexer": "ipython3",
   "version": "3.11.5"
  }
 },
 "nbformat": 4,
 "nbformat_minor": 2
}
