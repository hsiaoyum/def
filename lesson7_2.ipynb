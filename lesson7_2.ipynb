{
 "cells": [
  {
   "cell_type": "code",
   "execution_count": null,
   "metadata": {},
   "outputs": [],
   "source": [
    "def deduct(x,y):\n",
    "    return x-y\n",
    "\n",
    "sum=deduct (100,49)\n",
    "\n",
    "sum"
   ]
  },
  {
   "cell_type": "code",
   "execution_count": null,
   "metadata": {},
   "outputs": [],
   "source": [
    "def bmi(height,weight):\n",
    "    return weight/(height/100)**2\n",
    "\n",
    "h,w=input ('輸入你的身高,體重').split()\n",
    "\n",
    "bmi_value=bmi(int(h),int(w))\n",
    "print(f'你的bmi是：{bmi_value:.1f}')\n",
    "\n",
    "\n"
   ]
  },
  {
   "cell_type": "code",
   "execution_count": null,
   "metadata": {},
   "outputs": [],
   "source": [
    "def bmi(height,weight):\n",
    "    return weight/(height/100)**2\n",
    "\n",
    "\n",
    "def suggest (bmi_index):\n",
    "    if bmi_index < 18.5:\n",
    "        message ='體重過輕'\n",
    "\n",
    "    elif bmi_index <24:\n",
    "        message='正常範圍'\n",
    "\n",
    "    elif bmi_index <27:\n",
    "        message='體重過重'\n",
    "\n",
    "    elif bmi_index< 30:\n",
    "        message='輕度肥胖'\n",
    "\n",
    "    elif bmi_index<35:\n",
    "        message='中度肥胖'\n",
    "    else:\n",
    "        message='重度肥胖'\n",
    "\n",
    "    return message\n",
    "\n",
    "\n",
    "while(True):\n",
    "\n",
    "  h,w=input ('輸入你的身高,體重').split()\n",
    "  bmi_value=bmi(int(h),int(w))\n",
    "  print(f'你的bmi是：{bmi_value:.1f}')\n",
    "  print(f'溫馨提示：{suggest(bmi_value)}\\n')\n",
    "  input_value=int(input('結束按0'))\n",
    "\n",
    "  if input_value==0:\n",
    "      break\n",
    "  \n"
   ]
  },
  {
   "cell_type": "code",
   "execution_count": 28,
   "metadata": {},
   "outputs": [
    {
     "name": "stdout",
     "output_type": "stream",
     "text": [
      "格式錯誤\n"
     ]
    }
   ],
   "source": [
    "#檢查台灣手機號格式xxxx-xxx-xxx\n",
    "#text 是參數 是str實體方法\n",
    "\n",
    "\n",
    "\n",
    "def isPhoneNumber (text):\n",
    "    if len(text)!= 12:\n",
    "        return False\n",
    "    elif not text[:3].isdecimal():\n",
    "        return False\n",
    "    elif not text[4]=='-':\n",
    "        return False\n",
    "    elif not text[5:7].isdecimal():\n",
    "        return False\n",
    "    elif not text[8]=='-':\n",
    "        return False\n",
    "    elif not text[-3:].isdecimal():\n",
    "        return False\n",
    "    else:\n",
    "        return True\n",
    "    \n",
    "\n",
    "\n",
    "phone_num=input('輸入手機號碼 xxxx-xxx-xxx')\n",
    "if isPhoneNumber(phone_num):\n",
    "    print(f'你的手機號碼是{phone_num}')\n",
    "else:\n",
    "      print('格式錯誤')"
   ]
  }
 ],
 "metadata": {
  "kernelspec": {
   "display_name": "Python 3",
   "language": "python",
   "name": "python3"
  },
  "language_info": {
   "codemirror_mode": {
    "name": "ipython",
    "version": 3
   },
   "file_extension": ".py",
   "mimetype": "text/x-python",
   "name": "python",
   "nbconvert_exporter": "python",
   "pygments_lexer": "ipython3",
   "version": "3.8.6"
  }
 },
 "nbformat": 4,
 "nbformat_minor": 2
}
