{
 "cells": [
  {
   "cell_type": "code",
   "execution_count": 2,
   "metadata": {},
   "outputs": [
    {
     "name": "stdout",
     "output_type": "stream",
     "text": [
      "格式錯誤\n"
     ]
    }
   ],
   "source": [
    "#re 底下有 compile(正規則表達式), match()\n",
    "#compile() -> 字串格式表達方式\n",
    "#match()-> 要去做比對時\n",
    "\n",
    "import re\n",
    "re.compile(r'')\n",
    "\n",
    "#檢查台灣手機號格式xxxx-xxx-xxx\n",
    "\n",
    "\n",
    "phone=re.compile(r'\\d\\d\\d\\d-\\d\\d\\d-\\d\\d\\d')\n",
    "phone_textnum=input('輸入手機號碼 xxxx-xxx-xxx')\n",
    "\n",
    "match=re.match(phone,phone_textnum)\n",
    "\n",
    "if match is None:\n",
    "    print('格式錯誤')\n",
    "else:\n",
    "    print('格式正確') \n",
    "\n",
    "    \n",
    "       \n",
    "\n"
   ]
  },
  {
   "cell_type": "code",
   "execution_count": 2,
   "metadata": {},
   "outputs": [
    {
     "name": "stdout",
     "output_type": "stream",
     "text": [
      "hello\n",
      "world\n",
      "hello\\n world\n"
     ]
    }
   ],
   "source": [
    "print('hello\\nworld')\n",
    "print(r'hello\\n world')"
   ]
  },
  {
   "cell_type": "code",
   "execution_count": 5,
   "metadata": {},
   "outputs": [
    {
     "name": "stdout",
     "output_type": "stream",
     "text": [
      "格式正確\n"
     ]
    }
   ],
   "source": [
    "#檢查電郵\n",
    "import re\n",
    "\n",
    "def isEmail(text):\n",
    "    emailRegex= re.compile(r\"(^[a-zA-Z0-9_.+-]+@[a-zA-Z0-9-]+\\.[a-zA-Z0-9-.]+$)\")\n",
    "    match=re.match(emailRegex,text)      \n",
    "    if match is not None:\n",
    "     return True\n",
    "    else:\n",
    "     return False\n",
    "\n",
    "\n",
    "email=input('請輸入email:')\n",
    "if isEmail(email):\n",
    "  print('格式正確')\n",
    "else:\n",
    "  print('格式錯誤')     \n",
    "             \n",
    "           "
   ]
  },
  {
   "cell_type": "code",
   "execution_count": 8,
   "metadata": {},
   "outputs": [
    {
     "name": "stdout",
     "output_type": "stream",
     "text": [
      "格式錯誤\n"
     ]
    }
   ],
   "source": [
    "#檢查身分證號\n",
    "\n",
    "import re\n",
    "\n",
    "def isID(text):\n",
    "    IDRegex=re.compile(r'^[A-Z]\\d{9}$')\n",
    "    match=re.match(IDRegex,text)\n",
    "    if match is not None:\n",
    "        return True\n",
    "    else:\n",
    "        return False\n",
    "    \n",
    "\n",
    "input_ID=input('請輸入身分證字號')    \n",
    "if isID(input_ID):\n",
    "    print('格式正確')\n",
    "else:\n",
    "      print('格式錯誤')\n",
    "\n",
    "\n"
   ]
  }
 ],
 "metadata": {
  "kernelspec": {
   "display_name": "Python 3",
   "language": "python",
   "name": "python3"
  },
  "language_info": {
   "codemirror_mode": {
    "name": "ipython",
    "version": 3
   },
   "file_extension": ".py",
   "mimetype": "text/x-python",
   "name": "python",
   "nbconvert_exporter": "python",
   "pygments_lexer": "ipython3",
   "version": "3.8.6"
  }
 },
 "nbformat": 4,
 "nbformat_minor": 2
}
